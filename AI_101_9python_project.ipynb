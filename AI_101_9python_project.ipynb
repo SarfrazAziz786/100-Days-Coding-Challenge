{
  "nbformat": 4,
  "nbformat_minor": 0,
  "metadata": {
    "colab": {
      "provenance": [],
      "authorship_tag": "ABX9TyMDwh/dNF9OKRYInKgbIpZV",
      "include_colab_link": true
    },
    "kernelspec": {
      "name": "python3",
      "display_name": "Python 3"
    },
    "language_info": {
      "name": "python"
    }
  },
  "cells": [
    {
      "cell_type": "markdown",
      "metadata": {
        "id": "view-in-github",
        "colab_type": "text"
      },
      "source": [
        "<a href=\"https://colab.research.google.com/github/SarfrazAziz786/100-Days-Coding-Challenge/blob/main/AI_101_9python_project.ipynb\" target=\"_parent\"><img src=\"https://colab.research.google.com/assets/colab-badge.svg\" alt=\"Open In Colab\"/></a>"
      ]
    },
    {
      "cell_type": "markdown",
      "source": [
        "**Project 1: Mad libs Game in Python**"
      ],
      "metadata": {
        "id": "oY1InT33KkjC"
      }
    },
    {
      "cell_type": "code",
      "execution_count": null,
      "metadata": {
        "id": "SdAav2NMcASX"
      },
      "outputs": [],
      "source": [
        "#input from users\n",
        "name = input(\"Enter a name: \")\n",
        "programing_language  = input(\"Enter a Programing Language(e.g: python , next js , typescript , html): \")\n",
        "mentor = input(\"Enter the mentor name: \")\n",
        "place = input(\"Enter a place (e.g., GIAIC , PIAIC, Saylani Mass IT , APMF IT Committee): \")\n",
        "\n",
        "\n",
        "#story created\n",
        "print(\"\\nHere is my little story based on mad libs game\")\n",
        "print(f\"Once upon a time, there was a brilliant {name}.\")\n",
        "print(f\"{name} was very curious and always wanted to learn new things.\")\n",
        "print(f\"One day, {name} discovered the world of {programing_language} at {place}.\")\n",
        "print(f\"He was fascinated by the power of {programing_language} and started coding immediately.\")\n",
        "print(f\"Luckily, he found a great mentor, {mentor}, who guided him on his journey.\")\n",
        "print(f\"With {mentor}'s help, {name} became proficient in {programing_language} and created some amazing projects.\")\n",
        "print(f\"And they lived happily ever after!\")\n"
      ]
    },
    {
      "cell_type": "markdown",
      "source": [
        "**Project 2: Guess the Number Game Python Project (computer)**"
      ],
      "metadata": {
        "id": "SoHEbR4IPCBo"
      }
    },
    {
      "cell_type": "code",
      "source": [
        "import random\n",
        "\n",
        "def guess_the_number():\n",
        "  \"\"\" Guess the Number Game by Computer\"\"\"\n",
        "  number = random.randint(1, 5)\n",
        "  guess_left = 7\n",
        "\n",
        "  #welcome msg\n",
        "  print(\"Welcome to the Number Guessing Game!\")\n",
        "  print(\"I'm thinking of a number between 1 and 5. Can you guess it?\")\n",
        "\n",
        "  while guess_left > 0:\n",
        "    print(f\"You have {guess_left} guesses left.\")\n",
        "    try:\n",
        "      guess = int(input(\" Take a guess of another number. \"))\n",
        "    except ValueError:\n",
        "      print(\"Invalid input. Please enter a number.\")\n",
        "      continue\n",
        "\n",
        "    #guess the secret number\n",
        "    if guess < number:\n",
        "      print(\"Too low number! Try another number.\")\n",
        "    elif guess > number:\n",
        "      print(\"Too high! Try again.\")\n",
        "    else:\n",
        "      print(f\"Congratulations! You guessed the number {number} correctly!\")\n",
        "\n",
        "      return\n",
        "\n",
        "    guess_left -= 1\n",
        "\n",
        "  print(f\"Sorry, you've run out of guesses. The number was {number}.\")\n",
        "\n",
        "if __name__ == \"__main__\":\n",
        "  guess_the_number()"
      ],
      "metadata": {
        "id": "bwFVqvsncpaI",
        "colab": {
          "base_uri": "https://localhost:8080/"
        },
        "outputId": "bf27c260-e6c9-41e0-dcec-2b125602074a"
      },
      "execution_count": null,
      "outputs": [
        {
          "output_type": "stream",
          "name": "stdout",
          "text": [
            "Welcome to the Number Guessing Game!\n",
            "I'm thinking of a number between 1 and 5. Can you guess it?\n",
            "You have 7 guesses left.\n",
            " Take a guess of another number. 3\n",
            "Too low number! Try another number.\n",
            "You have 6 guesses left.\n",
            " Take a guess of another number. 3\n",
            "Too low number! Try another number.\n",
            "You have 5 guesses left.\n",
            " Take a guess of another number. 5\n",
            "Too high! Try again.\n",
            "You have 4 guesses left.\n",
            " Take a guess of another number. 6\n",
            "Too high! Try again.\n",
            "You have 3 guesses left.\n",
            " Take a guess of another number. 4\n",
            "Congratulations! You guessed the number 4 correctly!\n"
          ]
        }
      ]
    },
    {
      "cell_type": "markdown",
      "source": [
        "**Project 3: Guess the Number Game Python Project (user)**"
      ],
      "metadata": {
        "id": "XkaLupwR4Udn"
      }
    },
    {
      "cell_type": "code",
      "source": [
        "import random\n",
        "\n",
        "print(\"Welcome to the Number Guessing Game!\")\n",
        "print(\"Guess the number between 1 to 10\")\n",
        "\n",
        "number = random.randint(1, 10)\n",
        "guess_left = 7\n",
        "\n",
        "while guess_left > 0:\n",
        "    try:\n",
        "        guess = int(input(f\"You have {guess_left} attempts left. Enter your Guess Number: \"))\n",
        "\n",
        "        if guess < number:\n",
        "            print(\"Too low! Try another number.\")\n",
        "        elif guess > number:\n",
        "            print(\"Too high! Try again.\")\n",
        "        else:\n",
        "            print(f\"🎉 Congratulations! You guessed the number {number} correctly!\")\n",
        "            break\n",
        "\n",
        "        guess_left -= 1\n",
        "\n",
        "        if guess_left == 0:\n",
        "            print(f\"❌ Out of attempts! The correct number was {number}. Better luck next time.\")\n",
        "\n",
        "    except ValueError:\n",
        "        print(\"Invalid input! Please enter a valid number.\")\n"
      ],
      "metadata": {
        "colab": {
          "base_uri": "https://localhost:8080/"
        },
        "id": "oVJBX0Sm4Z8p",
        "outputId": "9a7c3774-5ced-425d-8cee-92bd5f425234"
      },
      "execution_count": null,
      "outputs": [
        {
          "output_type": "stream",
          "name": "stdout",
          "text": [
            "Welcome to the Number Guessing Game!\n",
            "Guess the number between 1 to 10\n",
            "You have 7 attempts left. Enter your Guess Number: 3\n",
            "Too low! Try another number.\n",
            "You have 6 attempts left. Enter your Guess Number: 3\n",
            "Too low! Try another number.\n",
            "You have 5 attempts left. Enter your Guess Number: 3\n",
            "Too low! Try another number.\n",
            "You have 4 attempts left. Enter your Guess Number: 3\n",
            "Too low! Try another number.\n",
            "You have 3 attempts left. Enter your Guess Number: 3\n",
            "Too low! Try another number.\n",
            "You have 2 attempts left. Enter your Guess Number: 3\n",
            "Too low! Try another number.\n",
            "You have 1 attempts left. Enter your Guess Number: 3\n",
            "Too low! Try another number.\n",
            "❌ Out of attempts! The correct number was 10. Better luck next time.\n"
          ]
        }
      ]
    },
    {
      "cell_type": "markdown",
      "source": [
        "**Project 4: Rock, paper, scissors Python Project**"
      ],
      "metadata": {
        "id": "kqlXGv6l-3zr"
      }
    },
    {
      "cell_type": "code",
      "source": [
        "import random\n",
        "\n",
        "#game choices\n",
        "choices = ['rock', 'paper' , 'scissor' ]\n",
        "\n",
        "\n",
        "while True:\n",
        "    # Player choice\n",
        "    player_choice = input(\"Enter rock, paper, or scissor: \").lower()\n",
        "\n",
        "    # Validate user input\n",
        "    if player_choice not in choices:\n",
        "        print(\"Invalid choice! Please choose rock, paper, or scissor.\")\n",
        "        continue  # Restart loop if input is invalid\n",
        "\n",
        "    # Computer choice\n",
        "    computer_choice = random.choice(choices)\n",
        "    print(f\"Computer chose: {computer_choice}\")\n",
        "\n",
        "\n",
        " #winner decision\n",
        "\n",
        "\n",
        "    if player_choice == computer_choice:\n",
        "      print(f\"It's a tie!. both choice: {player_choice}\")\n",
        "\n",
        "    elif player_choice == 'rock' and computer_choice == 'scissor':\n",
        "        print(f\"You win!\")\n",
        "    elif player_choice == 'paper' and computer_choice == 'rock':\n",
        "        print(f\"You win!\")\n",
        "    elif player_choice == 'scissor' and computer_choice == 'paper':\n",
        "        print(f\"You win!\")\n",
        "    else:\n",
        "      print(f\"You lose!\")\n",
        "\n",
        "    play_again = input(\"Do you want to play again? (y/n): \").lower()\n",
        "    if play_again != 'y':\n",
        "      break\n",
        "\n"
      ],
      "metadata": {
        "colab": {
          "base_uri": "https://localhost:8080/"
        },
        "id": "FT0IbQ9g-8lR",
        "outputId": "b3509f1d-7c7d-4b02-c6de-f3092338fe45"
      },
      "execution_count": null,
      "outputs": [
        {
          "name": "stdout",
          "output_type": "stream",
          "text": [
            "Enter rock, paper, or scissor: PAPER\n",
            "Computer chose: rock\n",
            "You win!\n",
            "Do you want to play again? (y/n): Y\n",
            "Enter rock, paper, or scissor: PAPER\n",
            "Computer chose: paper\n",
            "It's a tie!. both choice: paper\n",
            "Do you want to play again? (y/n): N\n"
          ]
        }
      ]
    },
    {
      "cell_type": "markdown",
      "source": [
        "**Project 5: Hangman Python Project**"
      ],
      "metadata": {
        "id": "CjYQJgoumLFR"
      }
    },
    {
      "cell_type": "code",
      "source": [
        "import random\n",
        "\n",
        "words = ['enum', 'python' , 'google colab' , 'vscode', 'game']\n",
        "\n",
        "word = random.choice(words)\n",
        "guessed_letters = []\n",
        "attempts = 6\n",
        "\n",
        "print(\"welcome to Hangman Game\")\n",
        "print(\"_\" * len(word))\n",
        "\n",
        "while attempts > 0:\n",
        "  guess = input(\"\\n guess the letter: \").lower()\n",
        "\n",
        "  if len(guess) != 1 or not guess.isalpha(): #isalpha check given string consists entirely of alphabetic characters.\n",
        "    print(\"Please write one alphabet only.\")\n",
        "    continue\n",
        "\n",
        "  if guess in guessed_letters:\n",
        "    print(\"You already guessed that letter.\")\n",
        "    continue\n",
        "\n",
        "  guessed_letters.append(guess)\n",
        "\n",
        "  if guess in word:\n",
        "    print(\"Correct guess!\")\n",
        "  else:\n",
        "    attempts -= 1\n",
        "    print(f\"Wrong guess! , {attempts} attempts. \")\n",
        "\n",
        "\n",
        "  display_word = \" \" .join([letter if letter in guessed_letters else \"_\" for letter in word])\n",
        "\n",
        "  print(display_word)\n",
        "\n",
        "  if \"_\" not in display_word:\n",
        "    print(f\"Congratulations! the correct word is: {word}\")\n",
        "    break\n",
        "else:\n",
        "  print(f\"Game Over! the correct word is {word}\")"
      ],
      "metadata": {
        "colab": {
          "base_uri": "https://localhost:8080/"
        },
        "id": "w5hRQ86pmMYz",
        "outputId": "55a54d5f-0dad-4416-b83c-08f1134e5abf"
      },
      "execution_count": null,
      "outputs": [
        {
          "output_type": "stream",
          "name": "stdout",
          "text": [
            "welcome to Hangman Game\n",
            "______\n",
            "\n",
            " guess the letter: a\n",
            "Wrong guess! , 5 attempts. \n",
            "_ _ _ _ _ _\n",
            "\n",
            " guess the letter: v\n",
            "Correct guess!\n",
            "v _ _ _ _ _\n",
            "\n",
            " guess the letter: s\n",
            "Correct guess!\n",
            "v s _ _ _ _\n",
            "\n",
            " guess the letter: c\n",
            "Correct guess!\n",
            "v s c _ _ _\n",
            "\n",
            " guess the letter: i\n",
            "Wrong guess! , 4 attempts. \n",
            "v s c _ _ _\n",
            "\n",
            " guess the letter: o\n",
            "Correct guess!\n",
            "v s c o _ _\n",
            "\n",
            " guess the letter: d\n",
            "Correct guess!\n",
            "v s c o d _\n",
            "\n",
            " guess the letter: e\n",
            "Correct guess!\n",
            "v s c o d e\n",
            "Congratulations! the correct word is: vscode\n"
          ]
        }
      ]
    },
    {
      "cell_type": "markdown",
      "source": [
        "**Project 6: Countdown Timer Python Project**"
      ],
      "metadata": {
        "id": "-D6OgVIqFacK"
      }
    },
    {
      "cell_type": "code",
      "source": [
        "import time  # for time delay\n",
        "\n",
        "def countdown_timer(seconds):\n",
        "  while seconds > 0:\n",
        "    mins, secs = divmod(seconds, 60) #The divmod() function takes two numbers as arguments and returns a tuple containing the quotient and remainder\n",
        "\n",
        "\n",
        "\n",
        "\n",
        "    timeformat = '{:02d}:{:02d}'.format(mins, secs) #0: This indicates that the number should be padded with leading zeros if it has fewer digits than specified. 2: This specifies the minimum width of the field (2 digits in this case).\n",
        "    print (timeformat)\n",
        "    print(timeformat, end='\\r') #end='\\r'it moves the cursor to the beginning of the current lin\n",
        "    time.sleep(1) #delay\n",
        "    seconds -= 1\n",
        "\n",
        "  print(\"00:00 \\n Time's up!\")\n",
        "\n",
        "total_seconds= int(input(\"Enter the time in seconds for countdown: \"))\n",
        "countdown_timer(total_seconds)\n"
      ],
      "metadata": {
        "id": "cK306YWKFcW6",
        "colab": {
          "base_uri": "https://localhost:8080/"
        },
        "outputId": "97a271a3-c7cc-4f5b-bce7-5bc78a8eb10c"
      },
      "execution_count": null,
      "outputs": [
        {
          "output_type": "stream",
          "name": "stdout",
          "text": [
            "Enter the time in seconds for countdown: 60\n",
            "01:00\n",
            "00:59\n",
            "00:58\n",
            "00:57\n",
            "00:56\n",
            "00:55\n",
            "00:54\n",
            "00:53\n",
            "00:52\n",
            "00:51\n",
            "00:50\n",
            "00:49\n",
            "00:48\n",
            "00:47\n",
            "00:46\n",
            "00:45\n",
            "00:44\n",
            "00:43\n",
            "00:42\n",
            "00:41\n",
            "00:40\n",
            "00:39\n",
            "00:38\n",
            "00:37\n",
            "00:36\n",
            "00:35\n",
            "00:34\n",
            "00:33\n",
            "00:32\n",
            "00:31\n",
            "00:30\n",
            "00:29\n",
            "00:28\n",
            "00:27\n",
            "00:26\n",
            "00:25\n",
            "00:24\n",
            "00:23\n",
            "00:22\n",
            "00:21\n",
            "00:20\n",
            "00:19\n",
            "00:18\n",
            "00:17\n",
            "00:16\n",
            "00:15\n",
            "00:14\n",
            "00:13\n",
            "00:12\n",
            "00:11\n",
            "00:10\n",
            "00:09\n",
            "00:08\n",
            "00:07\n",
            "00:06\n",
            "00:05\n",
            "00:04\n",
            "00:03\n",
            "00:02\n",
            "00:01\n",
            "00:00 \n",
            " Time's up!\n"
          ]
        }
      ]
    },
    {
      "cell_type": "markdown",
      "source": [
        "**Project 7: Password Generator Python Project**"
      ],
      "metadata": {
        "id": "nNm4mojqvIVj"
      }
    },
    {
      "cell_type": "code",
      "source": [
        "import random\n",
        "import string\n",
        "\n",
        "def generated_password (length=12):\n",
        "  characters = string.ascii_letters + string.digits + string.punctuation\n",
        "  password = ''.join(random.choice(characters) for _ in range(length))\n",
        "  return password\n",
        "\n",
        "#user input\n",
        "while True:\n",
        "  try:\n",
        "    length_input = input(\"Enter the length of your disired password (press Enter for default 12 length): \")\n",
        "    # Check if the input is empty, if so, use default length\n",
        "    length = int(length_input) if length_input else 12\n",
        "    break\n",
        "  except ValueError:\n",
        "    print(\"Invalid input. Please enter a valid number.\")\n",
        "\n",
        "\n",
        "\n",
        "password = generated_password(length)\n",
        "print(\"Your Desired Generated Password: \", password)\n",
        "\n",
        "\n"
      ],
      "metadata": {
        "colab": {
          "base_uri": "https://localhost:8080/"
        },
        "id": "Q4G2ACZHvLOZ",
        "outputId": "a943af79-2488-4718-956c-28d5722e7655"
      },
      "execution_count": null,
      "outputs": [
        {
          "output_type": "stream",
          "name": "stdout",
          "text": [
            "Enter the length of your disired password (press Enter for default 12 length): \n",
            "Your Desired Generated Password:  @+_7!hAiTa&x\n"
          ]
        }
      ]
    }
  ]
}